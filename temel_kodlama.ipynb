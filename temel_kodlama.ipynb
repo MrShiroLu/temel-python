{
  "nbformat": 4,
  "nbformat_minor": 0,
  "metadata": {
    "colab": {
      "provenance": [],
      "collapsed_sections": [
        "f2DBQ_t0Za2Z",
        "yhRXNK4hU5NY",
        "Z5Q4Mm_yVCBg",
        "4UI1VZOtVsEO"
      ],
      "authorship_tag": "ABX9TyP+IR8EZMwtcvaRGCYKciZs",
      "include_colab_link": true
    },
    "kernelspec": {
      "name": "python3",
      "display_name": "Python 3"
    },
    "language_info": {
      "name": "python"
    }
  },
  "cells": [
    {
      "cell_type": "markdown",
      "metadata": {
        "id": "view-in-github",
        "colab_type": "text"
      },
      "source": [
        "<a href=\"https://colab.research.google.com/github/MrShiroLu/temel-python/blob/main/temel_kodlama.ipynb\" target=\"_parent\"><img src=\"https://colab.research.google.com/assets/colab-badge.svg\" alt=\"Open In Colab\"/></a>"
      ]
    },
    {
      "cell_type": "markdown",
      "source": [
        "# Ekrana Yazı Yazdırma"
      ],
      "metadata": {
        "id": "f2DBQ_t0Za2Z"
      }
    },
    {
      "cell_type": "code",
      "source": [
        "print(\"Hello, World!\")\n",
        "\n",
        "isim = \"Nomet\"\n",
        "print(\"Merhaba, ben \",isim)\n",
        "print(f\"Merhaba, ben {isim}\")"
      ],
      "metadata": {
        "colab": {
          "base_uri": "https://localhost:8080/"
        },
        "id": "KbdsBCbtZfmG",
        "outputId": "0f8e6071-c670-4eb7-ba5d-d4ab56168a82"
      },
      "execution_count": null,
      "outputs": [
        {
          "output_type": "stream",
          "name": "stdout",
          "text": [
            "Hello, World!\n",
            "Merhaba, ben  Nomet\n",
            "Merhaba, ben Nomet\n"
          ]
        }
      ]
    },
    {
      "cell_type": "markdown",
      "source": [
        "# Veri Tipleri"
      ],
      "metadata": {
        "id": "quufvFebFT6i"
      }
    },
    {
      "cell_type": "markdown",
      "source": [
        "Yazılımda veri tipleri, bir değişkenin veya ifadenin türünü ve bu türle ne tür işlemler yapılabileceğini belirler"
      ],
      "metadata": {
        "id": "-p9WTq_4XaRz"
      }
    },
    {
      "cell_type": "code",
      "source": [
        "değişkenin_ismi = değer\n",
        "\n",
        "sayi = 10           # Tamsayı atanır\n",
        "isim = \"Ali\"        # Metin atanır\n",
        "pi_sayisi = 3.14    # Ondalıklı sayı atanır\n",
        "dogru_mu = True     # Mantıksal değer atanır\n",
        "_ozel_veri = 42     # Alt çizgi ile başlayabilir\n",
        "\n",
        "1sayi = 10          # ❌ Sayı ile başlayamaz\n",
        "isim-soyisim = \"Ali\" # ❌ Tire (-) kullanılamaz, alt çizgi (_) kullanılmalı\n",
        "class = 5           # ❌ Python anahtar kelimeleri kullanılamaz\n",
        "isim soyisim = \"Ali Veli\" # ❌ Boşluk içeremez, alt çizgi (_) kullanılmalı"
      ],
      "metadata": {
        "id": "MxtPzYhsXb1X",
        "outputId": "257e157b-bc6d-4236-db1d-93d93b00445b",
        "colab": {
          "base_uri": "https://localhost:8080/",
          "height": 106
        }
      },
      "execution_count": 1,
      "outputs": [
        {
          "output_type": "error",
          "ename": "SyntaxError",
          "evalue": "invalid decimal literal (<ipython-input-1-acecd9d6730b>, line 9)",
          "traceback": [
            "\u001b[0;36m  File \u001b[0;32m\"<ipython-input-1-acecd9d6730b>\"\u001b[0;36m, line \u001b[0;32m9\u001b[0m\n\u001b[0;31m    1sayi = 10          # ❌ Sayı ile başlayamaz\u001b[0m\n\u001b[0m    ^\u001b[0m\n\u001b[0;31mSyntaxError\u001b[0m\u001b[0;31m:\u001b[0m invalid decimal literal\n"
          ]
        }
      ]
    },
    {
      "cell_type": "markdown",
      "source": [
        "### Tamsayılar"
      ],
      "metadata": {
        "id": "yhRXNK4hU5NY"
      }
    },
    {
      "cell_type": "markdown",
      "source": [
        "Ne oludğundan bahset"
      ],
      "metadata": {
        "id": "I11iFDmCVN89"
      }
    },
    {
      "cell_type": "code",
      "source": [
        "tamsayi = 19\n",
        "plaka = 32\n",
        "\n",
        "print(tamsayi)\n",
        "print(plaka)\n",
        "\n",
        "print(type(plaka))"
      ],
      "metadata": {
        "colab": {
          "base_uri": "https://localhost:8080/"
        },
        "id": "EvOSsqamFV3J",
        "outputId": "4651275b-814b-4f28-c75a-6b46242b2629"
      },
      "execution_count": null,
      "outputs": [
        {
          "output_type": "stream",
          "name": "stdout",
          "text": [
            "19\n",
            "32\n",
            "51\n",
            "<class 'int'>\n"
          ]
        }
      ]
    },
    {
      "cell_type": "markdown",
      "source": [
        "### Ondalıklı Sayılar"
      ],
      "metadata": {
        "id": "Z5Q4Mm_yVCBg"
      }
    },
    {
      "cell_type": "code",
      "source": [
        "pi_sayisi = 3.14\n",
        "ondalikli = 5.478\n",
        "\n",
        "print(pi_sayisi)\n",
        "print(ondalikli)\n",
        "\n",
        "print(type(pi_sayisi))"
      ],
      "metadata": {
        "colab": {
          "base_uri": "https://localhost:8080/"
        },
        "id": "vr_Q_gDcOS1v",
        "outputId": "8c98c877-6cba-4b19-dede-d2c4c9dc4b70"
      },
      "execution_count": null,
      "outputs": [
        {
          "output_type": "stream",
          "name": "stdout",
          "text": [
            "3.14\n",
            "5.478\n"
          ]
        }
      ]
    },
    {
      "cell_type": "markdown",
      "source": [
        "### Stringler"
      ],
      "metadata": {
        "id": "AGapixRLVGMO"
      }
    },
    {
      "cell_type": "code",
      "source": [
        "selamlama = \"İyi günler, nasılsınız?\"\n",
        "cevap = \"Teşekkürler iyiyim, siz nasılsınız?\"\n",
        "sayi = \"15\"\n",
        "\n",
        "print(selamlama)\n",
        "print(cevap)\n",
        "\n",
        "print(type(selamlama))\n",
        "print(type(sayi))"
      ],
      "metadata": {
        "colab": {
          "base_uri": "https://localhost:8080/"
        },
        "id": "sgNZs7wGVLOY",
        "outputId": "2edfc391-d0d0-4906-a153-3a2c498238dd"
      },
      "execution_count": null,
      "outputs": [
        {
          "output_type": "stream",
          "name": "stdout",
          "text": [
            "İyi günler, nasılsınız?\n",
            "Teşekkürler iyiyim, siz nasılsınız?\n",
            "<class 'str'>\n",
            "<class 'str'>\n"
          ]
        }
      ]
    },
    {
      "cell_type": "code",
      "source": [
        "isim = \"Nomet\"\n",
        "soy_isim = \"Başaran\"\n",
        "topla = isim + soy_isim\n",
        "\n",
        "print(topla)"
      ],
      "metadata": {
        "id": "qkHtmmHWb4Pb",
        "colab": {
          "base_uri": "https://localhost:8080/"
        },
        "outputId": "4271b924-9550-4dff-c53e-9fe63d68c6ec"
      },
      "execution_count": null,
      "outputs": [
        {
          "output_type": "stream",
          "name": "stdout",
          "text": [
            "NometBaşaran\n"
          ]
        }
      ]
    },
    {
      "cell_type": "markdown",
      "source": [
        "### Boolean"
      ],
      "metadata": {
        "id": "4UI1VZOtVsEO"
      }
    },
    {
      "cell_type": "code",
      "source": [
        "girebilir_miyim = True\n",
        "denemen_gerek = False\n",
        "\n",
        "print(girebilir_miyim)\n",
        "print(denemen_gerek)\n",
        "\n",
        "print(type(denemen_gerek))"
      ],
      "metadata": {
        "colab": {
          "base_uri": "https://localhost:8080/"
        },
        "id": "QnR_DS8RVvUf",
        "outputId": "6a82bae7-2ea7-4552-9f2b-3e0caa93cf88"
      },
      "execution_count": null,
      "outputs": [
        {
          "output_type": "stream",
          "name": "stdout",
          "text": [
            "True\n",
            "False\n",
            "<class 'bool'>\n"
          ]
        }
      ]
    },
    {
      "cell_type": "markdown",
      "source": [
        "### Arrays"
      ],
      "metadata": {
        "id": "GgOEPRJEVwQ7"
      }
    },
    {
      "cell_type": "code",
      "source": [
        "# bilgisayar 0 dan saymaya başlar\n",
        "sehirler = [\"Ankara\",\"Bursa\",\"Isparta\",\"Burdur\"]\n",
        "plakalar = [34,7,32,44,16,6]\n",
        "\n",
        "print(plakalar)\n",
        "print(sehirler[0])\n",
        "print(sehirler[2])\n",
        "print(sehirler[-1])"
      ],
      "metadata": {
        "id": "9yfsyVgEV_4U",
        "colab": {
          "base_uri": "https://localhost:8080/"
        },
        "outputId": "3548f75e-e2ed-4a3e-9626-9bd6499eacd5"
      },
      "execution_count": null,
      "outputs": [
        {
          "output_type": "stream",
          "name": "stdout",
          "text": [
            "[34, 7, 32, 44, 16, 6]\n",
            "Ankara\n",
            "Isparta\n",
            "Burdur\n"
          ]
        }
      ]
    },
    {
      "cell_type": "code",
      "source": [
        "sehirler = [\"Ankara\",\"Bursa\",\"Isparta\",\"Burdur\"]\n",
        "plakalar = [34,7,32,44,16,6]\n",
        "\n",
        "# yazılan değeri SONA ekler\n",
        "sehirler.append(\"Istanbul\")\n",
        "print(sehirler)\n",
        "\n",
        "# Listedeki son değeri siler\n",
        "#!!! içine indeks yazılırsa, o indeksteki değeri siler\n",
        "sehirler.pop(2)\n",
        "print(f\"listenin sonraki hali: {sehirler}\")\n",
        "\n",
        "# yazılan değeri siler\n",
        "plakalar.remove(34)\n",
        "print(plakalar)"
      ],
      "metadata": {
        "id": "6JW_Yf14U5f8",
        "outputId": "3f754875-8b10-439d-8877-45c5242f0b14",
        "colab": {
          "base_uri": "https://localhost:8080/"
        }
      },
      "execution_count": null,
      "outputs": [
        {
          "output_type": "stream",
          "name": "stdout",
          "text": [
            "['Ankara', 'Bursa', 'Isparta', 'Burdur', 'Istanbul']\n",
            "listenin sonraki hali: ['Ankara', 'Bursa', 'Burdur', 'Istanbul']\n",
            "[7, 32, 44, 16, 6]\n"
          ]
        }
      ]
    },
    {
      "cell_type": "markdown",
      "source": [
        "# Temel İşlemler ve Kullanıcıdan veri alma"
      ],
      "metadata": {
        "id": "zTrz2Se-TWcx"
      }
    },
    {
      "cell_type": "code",
      "source": [
        "#Temel işlemler\n",
        "\n",
        "deger_1 = 15\n",
        "deger_2 = 4\n",
        "\n",
        "topla = deger_1 + deger_2\n",
        "cikar = deger_1 - deger_2\n",
        "carp = deger_1 * deger_2\n",
        "bol = deger_1 / deger_2\n",
        "ussu = deger_1 ** deger_2\n",
        "mod_al = deger_1 % deger_2\n",
        "\n",
        "print(\"topla sonuc:\",topla)\n",
        "print(\"cikar sonuc:\",cikar)\n",
        "print(\"carp sonuc:\",carp)\n",
        "print(\"bol sonuc:\",bol)\n",
        "print(\"ussu sonuc:\",ussu)\n",
        "print(\"mod sonuc:\",mod_al)"
      ],
      "metadata": {
        "id": "V7Lo-9b6Tg55",
        "colab": {
          "base_uri": "https://localhost:8080/"
        },
        "outputId": "2667bee2-a43c-45b3-9d9f-d51461ef27f7"
      },
      "execution_count": null,
      "outputs": [
        {
          "output_type": "stream",
          "name": "stdout",
          "text": [
            "topla sonuc: 19\n",
            "cikar sonuc: 11\n",
            "carp sonuc: 60\n",
            "bol sonuc: 3.75\n",
            "ussu sonuc: 50625\n",
            "mod sonuc: 3\n"
          ]
        }
      ]
    },
    {
      "cell_type": "code",
      "source": [
        "#Kullanıcıdan veri alma\n",
        "\n",
        "isim = input(\"isminizi girin: \")\n",
        "soy_isim = input(\"soy isminizi girin: \")\n",
        "\n",
        "print(f\"merhaba {isim} {soy_isim}\")\n",
        "\n",
        "# Burada alınan değerin tipini belirtmek zorundayız\n",
        "# Çünkü değeri string olarak alır\n",
        "sayi_1 = int(input(\"ilk sayıyı girin: \"))\n",
        "sayi_2 = int(input(\"ikinci sayıyı girin: \"))\n",
        "\n",
        "toplam = sayi_1 + sayi_2\n",
        "print(f\"toplam: {toplam}\")"
      ],
      "metadata": {
        "colab": {
          "base_uri": "https://localhost:8080/"
        },
        "id": "PkoArwAZnwFB",
        "outputId": "2616c416-6246-4025-865a-1cb85218253b"
      },
      "execution_count": null,
      "outputs": [
        {
          "output_type": "stream",
          "name": "stdout",
          "text": [
            "isminizi girin: burak\n",
            "soy isminizi girin: artun\n",
            "merhaba burak artun\n",
            "ilk sayıyı girin: 12\n",
            "ikinci sayıyı girin: 32\n",
            "44\n"
          ]
        }
      ]
    },
    {
      "cell_type": "markdown",
      "source": [
        "# Koşul İfadeleri"
      ],
      "metadata": {
        "id": "F99QNRH7Tj1z"
      }
    },
    {
      "cell_type": "code",
      "source": [
        "# if/else\n",
        "\"\"\"\n",
        "if koşul:\n",
        "  sağlanırsa\n",
        "\n",
        "else:\n",
        "  sağlanmazsa\n",
        "\"\"\""
      ],
      "metadata": {
        "id": "y0o6CuN7T5Iy"
      },
      "execution_count": null,
      "outputs": []
    },
    {
      "cell_type": "code",
      "source": [
        "dogru_mu1 = 25 < 32 # koşul ifadesi\n",
        "dogru_mu2 = 25 < 11\n",
        "\n",
        "print(dogru_mu1)\n",
        "print(dogru_mu2)"
      ],
      "metadata": {
        "id": "n-khvc0Ebnv8",
        "outputId": "4df3557c-0c3c-4d77-b782-1207b95e66ac",
        "colab": {
          "base_uri": "https://localhost:8080/"
        }
      },
      "execution_count": null,
      "outputs": [
        {
          "output_type": "stream",
          "name": "stdout",
          "text": [
            "True\n",
            "False\n"
          ]
        }
      ]
    },
    {
      "cell_type": "code",
      "source": [
        "yas = int(input(\"Yasinizi giriniz: \"))\n",
        "\n",
        "if yas > 18:\n",
        "  print(\"Iceri girebilirsiniz\")\n",
        "else:\n",
        "  print(\"Iceri giremezsiniz\")"
      ],
      "metadata": {
        "colab": {
          "base_uri": "https://localhost:8080/"
        },
        "id": "l9ZcW_JJ_hyk",
        "outputId": "eabed4a9-0bee-48a9-a91b-a8a9bf38ba5b"
      },
      "execution_count": null,
      "outputs": [
        {
          "output_type": "stream",
          "name": "stdout",
          "text": [
            "Yasinizi giriniz: 6\n",
            "Iceri giremezsiniz\n"
          ]
        }
      ]
    },
    {
      "cell_type": "code",
      "source": [
        "# elif kullanımı\n",
        "# Birden fazla koşul eklemek için kullanırız\n",
        "\n",
        "notu = int(input(\"Notunuzu girin: \"))\n",
        "\n",
        "# Notu değerlendirme\n",
        "if notu >= 90:\n",
        "    print(\"Harika! A+ alıyorsunuz.\")\n",
        "elif notu >= 80:\n",
        "    print(\"Çok iyi! A alıyorsunuz.\")\n",
        "elif notu >= 70:\n",
        "    print(\"İyi! B alıyorsunuz.\")\n",
        "elif notu >= 60:\n",
        "    print(\"Ortalama! C alıyorsunuz.\")\n",
        "else:\n",
        "    print(\"Maalesef, başarısız oldunuz.\")"
      ],
      "metadata": {
        "id": "vXYZazwqWUpf",
        "outputId": "7b4aba94-99c9-45ba-930a-abc2d845e60a",
        "colab": {
          "base_uri": "https://localhost:8080/"
        }
      },
      "execution_count": null,
      "outputs": [
        {
          "output_type": "stream",
          "name": "stdout",
          "text": [
            "Notunuzu girin: 66\n",
            "Ortalama! C alıyorsunuz.\n"
          ]
        }
      ]
    },
    {
      "cell_type": "code",
      "source": [
        "miktar = int(input(\"Cekmek isteginiz miktari giriniz: \"))\n",
        "bakiye = 10000\n",
        "\n",
        "if miktar <= bakiye:\n",
        "  kalan = bakiye - miktar\n",
        "  print(f\"Cekilen para: {miktar}, kalan para: {kalan}\")\n",
        "else:\n",
        "  print(\"Cekmek istediginiz miktar bakinyenizi asmaktadir\")\n",
        "  print(f\"Mevcut bakiye: {bakiye}\")"
      ],
      "metadata": {
        "colab": {
          "base_uri": "https://localhost:8080/"
        },
        "id": "zW1Nw0NaCKJw",
        "outputId": "b21929f7-a99a-4961-d90a-15b7bbd03cad"
      },
      "execution_count": null,
      "outputs": [
        {
          "output_type": "stream",
          "name": "stdout",
          "text": [
            "Cekmek isteginiz miktari giriniz: 10000\n",
            "Cekilen para: 10000, kalan para: 0\n"
          ]
        }
      ]
    },
    {
      "cell_type": "markdown",
      "source": [
        "# Döngü"
      ],
      "metadata": {
        "id": "Wx7izgFdT9lP"
      }
    },
    {
      "cell_type": "code",
      "source": [
        "meyve = [\"elma\",\"armut\",\"muz\",\"karpuz\",\"mango\"]\n",
        "\n",
        "for i in meyve:\n",
        "  print(i)"
      ],
      "metadata": {
        "id": "7ExvbhrjUCG9",
        "colab": {
          "base_uri": "https://localhost:8080/"
        },
        "outputId": "540f245a-f07d-419a-d85e-eeea292432d5"
      },
      "execution_count": null,
      "outputs": [
        {
          "output_type": "stream",
          "name": "stdout",
          "text": [
            "elma\n",
            "armut\n",
            "muz\n",
            "karpuz\n",
            "mango\n"
          ]
        }
      ]
    },
    {
      "cell_type": "code",
      "source": [
        "for i in range(10):\n",
        "  print(f\"{i}. Merhaba\")"
      ],
      "metadata": {
        "colab": {
          "base_uri": "https://localhost:8080/"
        },
        "id": "wp3PfsbBSfzC",
        "outputId": "a7a58070-3fc9-4f7e-a312-b4be28f66240"
      },
      "execution_count": null,
      "outputs": [
        {
          "output_type": "stream",
          "name": "stdout",
          "text": [
            "0. Merhaba\n",
            "1. Merhaba\n",
            "2. Merhaba\n",
            "3. Merhaba\n",
            "4. Merhaba\n",
            "5. Merhaba\n",
            "6. Merhaba\n",
            "7. Merhaba\n",
            "8. Merhaba\n",
            "9. Merhaba\n"
          ]
        }
      ]
    },
    {
      "cell_type": "markdown",
      "source": [
        "# Fonksiyonlar"
      ],
      "metadata": {
        "id": "8F4Slqc8UBHo"
      }
    },
    {
      "cell_type": "code",
      "source": [
        "def fonksiyon():\n",
        "  print(\"Bu bir fonksiyondur\")\n",
        "\n",
        "fonksiyon()"
      ],
      "metadata": {
        "id": "bg1Ry9rPUHqb",
        "colab": {
          "base_uri": "https://localhost:8080/"
        },
        "outputId": "aee7feb8-49f9-47c9-cdc1-4fcef3270bb8"
      },
      "execution_count": null,
      "outputs": [
        {
          "output_type": "stream",
          "name": "stdout",
          "text": [
            "Bu bir fonksiyondur\n"
          ]
        }
      ]
    },
    {
      "cell_type": "code",
      "source": [
        "def topla(sayi_1,sayi_2):\n",
        "  return sayi_1 + sayi_2\n",
        "\n",
        "print(f\"toplam: {topla(15,22)}\")"
      ],
      "metadata": {
        "colab": {
          "base_uri": "https://localhost:8080/"
        },
        "id": "wNVUU4vgU0JB",
        "outputId": "4165b514-edf9-4376-f748-3925c5d7b410"
      },
      "execution_count": null,
      "outputs": [
        {
          "output_type": "stream",
          "name": "stdout",
          "text": [
            "toplam: 37\n"
          ]
        }
      ]
    },
    {
      "cell_type": "markdown",
      "source": [
        "# Yorum Satırları"
      ],
      "metadata": {
        "id": "8loFOCjV74eh"
      }
    },
    {
      "cell_type": "code",
      "source": [
        "# yazıdğımız kodları açıklamak için kullanırız\n",
        "\n",
        "# Bir satır için kullanılan yorum satırı\n",
        "arasına koymak işe yaramaz çünkü # ile 1 satır alınır\n",
        "# her satır için tek tek koymak lazım\n",
        "\"\"\"\n",
        "Birden fazla satır\n",
        "için kullanılan\n",
        "yorum satırı\n",
        "\"\"\""
      ],
      "metadata": {
        "id": "V5slIuUE77BW"
      },
      "execution_count": null,
      "outputs": []
    },
    {
      "cell_type": "markdown",
      "source": [
        "# Basit Uygulamalar"
      ],
      "metadata": {
        "id": "eU6oaDz4UIV1"
      }
    },
    {
      "cell_type": "markdown",
      "source": [
        "### Not Ortalaması Hesaplama"
      ],
      "metadata": {
        "id": "lSoLpXbIUngZ"
      }
    },
    {
      "cell_type": "code",
      "source": [
        "vize = float(input(\"Vize notunu gir: \"))\n",
        "final = float(input(\"Final notunu gir: \"))\n",
        "\n",
        "ortalama = (vize * 0.4) + (final * 0.6)\n",
        "\n",
        "print(\"Ortalama:\", ortalama)"
      ],
      "metadata": {
        "id": "iaRisJ3kUs1j",
        "colab": {
          "base_uri": "https://localhost:8080/"
        },
        "outputId": "bd93c08a-a656-40d3-b4e1-b236d8d6527c"
      },
      "execution_count": null,
      "outputs": [
        {
          "output_type": "stream",
          "name": "stdout",
          "text": [
            "Vize notunu gir: 38\n",
            "Final notunu gir: 50\n",
            "Ortalama: 45.2\n"
          ]
        }
      ]
    },
    {
      "cell_type": "code",
      "source": [
        "# Ortalama üstü olan notları bul\n",
        "# for ve if i kullan\n",
        "notlar = [15,22,67,8,99,93,45,44,43]\n",
        "ortalama = 0\n",
        "say = 0\n",
        "toplam = 0\n",
        "\n",
        "for a in notlar:\n",
        "  toplam = a + toplam\n",
        "  say = say + 1\n",
        "\n",
        "for i in notlar:\n",
        "  if i >= ortalama:\n",
        "    print(f\"Gecen not: {i}\")\n"
      ],
      "metadata": {
        "id": "NWAWtSO7H_pb",
        "colab": {
          "base_uri": "https://localhost:8080/"
        },
        "outputId": "70a2739a-81d9-4325-8995-e1529014f707"
      },
      "execution_count": null,
      "outputs": [
        {
          "output_type": "stream",
          "name": "stdout",
          "text": [
            "Gecen not: 15\n",
            "Gecen not: 22\n",
            "Gecen not: 67\n",
            "Gecen not: 8\n",
            "Gecen not: 99\n",
            "Gecen not: 93\n",
            "Gecen not: 45\n",
            "Gecen not: 44\n",
            "Gecen not: 43\n"
          ]
        }
      ]
    },
    {
      "cell_type": "code",
      "source": [
        "# Asal sayı mı\n",
        "def asal_sayi_mi(sayi):\n",
        "    if sayi <= 1:\n",
        "        return False\n",
        "    for i in range(2, sayi):\n",
        "        if sayi % i == 0:\n",
        "            print(f\"{sayi}, {i} ye tam bolunur\")\n",
        "            return False\n",
        "    return True\n",
        "\n",
        "n = int(input(\"Kaç adet sayı gireceksiniz? \"))\n",
        "\n",
        "for i in range(n):\n",
        "    sayi = int(input(f\"{i+1}. sayıyı girin: \"))\n",
        "    if asal_sayi_mi(sayi):\n",
        "        print(f\"{sayi} bir asal sayıdır.\")\n",
        "    else:\n",
        "        print(f\"{sayi} bir asal sayı değildir.\")"
      ],
      "metadata": {
        "id": "BW9JpmTvZTTt",
        "outputId": "a2007a52-40d0-4fb6-8c1f-6eaf2e0da91f",
        "colab": {
          "base_uri": "https://localhost:8080/"
        }
      },
      "execution_count": null,
      "outputs": [
        {
          "output_type": "stream",
          "name": "stdout",
          "text": [
            "Kaç adet sayı gireceksiniz? 3\n",
            "1. sayıyı girin: 87\n",
            "87, 3 ye tam bolunur\n",
            "87 bir asal sayı değildir.\n",
            "2. sayıyı girin: 67\n",
            "67 bir asal sayıdır.\n",
            "3. sayıyı girin: 36127931\n",
            "36127931, 7 ye tam bolunur\n",
            "36127931 bir asal sayı değildir.\n"
          ]
        }
      ]
    },
    {
      "cell_type": "markdown",
      "source": [
        "  \n",
        "\n",
        "---\n",
        "\n"
      ],
      "metadata": {
        "id": "r0Y0mklPXN-N"
      }
    },
    {
      "cell_type": "markdown",
      "source": [
        "# Ek Kaynaklar"
      ],
      "metadata": {
        "id": "7m657HfFXQgk"
      }
    },
    {
      "cell_type": "markdown",
      "source": [
        "\n",
        "\n",
        "[FreeCodeCamp (İngilizce)](https://youtu.be/eWRfhZUzrAc?si=Mm0OrUh6s7vi5ydF)\n",
        "\n",
        "[BroCode (İngilizce)](https://youtu.be/ix9cRaBkVe0?si=ymWyvsPcIZ2lLIDU)\n",
        "\n",
        "[Udemy (İngilizce)](https://www.udemy.com/course/100-days-of-code/?srsltid=AfmBOooZ6OXcwMq0VTYWuBKY3lfGcxCUiluqL0QheM8A22uq6CWO4XLJ)\n",
        "\n",
        "[Yakın Kampüs (Türkçe)](https://youtube.com/playlist?list=PLWctyKyPphPiul3WbHkniANLqSheBVP3O&si=68fjv8IvHaLDLdjL)\n",
        "\n",
        "[BTK Akademi (Türkçe)](https://www.btkakademi.gov.tr/portal/course/sifirdan-ileri-seviye-python-programlama-5877)\n",
        "\n",
        "[W3Schools (website)](https://www.w3schools.com/python/)\n",
        "\n",
        "\n",
        "\n",
        "---\n",
        "\n",
        "[HackerRank (Pekiştirme)](https://www.hackerrank.com)\n",
        "\n",
        "[Edabit (Pekiştirme)](https://edabit.com)\n",
        "\n",
        "---\n",
        "\n",
        "[Exact Instructions Challenge - THIS is why my kids hate me. | Josh Darnit](https://youtu.be/cDA3_5982h8?si=J0TbdmnFyDP3nLP2)\n"
      ],
      "metadata": {
        "id": "F-sHiKWAXWHg"
      }
    }
  ]
}