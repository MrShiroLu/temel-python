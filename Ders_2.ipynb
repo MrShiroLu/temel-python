{
  "nbformat": 4,
  "nbformat_minor": 0,
  "metadata": {
    "colab": {
      "provenance": [],
      "authorship_tag": "ABX9TyOy9EWazqARx77uiRktAaXc",
      "include_colab_link": true
    },
    "kernelspec": {
      "name": "python3",
      "display_name": "Python 3"
    },
    "language_info": {
      "name": "python"
    }
  },
  "cells": [
    {
      "cell_type": "markdown",
      "metadata": {
        "id": "view-in-github",
        "colab_type": "text"
      },
      "source": [
        "<a href=\"https://colab.research.google.com/github/MrShiroLu/temel-python/blob/main/Ders_2.ipynb\" target=\"_parent\"><img src=\"https://colab.research.google.com/assets/colab-badge.svg\" alt=\"Open In Colab\"/></a>"
      ]
    },
    {
      "cell_type": "markdown",
      "source": [
        "# String Metotlar"
      ],
      "metadata": {
        "id": "yPN3DU0z7lfO"
      }
    },
    {
      "cell_type": "code",
      "source": [
        "# Ters çevirme\n",
        "text = \"Python\"\n",
        "reversed_text = text[::-1]\n",
        "print(reversed_text)  # Çıktı: nohtyP"
      ],
      "metadata": {
        "id": "Cz8HtX4A8OyG"
      },
      "execution_count": null,
      "outputs": []
    },
    {
      "cell_type": "code",
      "source": [
        "sentence = \"Merhaba Dünya\"\n",
        "\n",
        "# upper() metodu yazıyı büyütür\n",
        "print(sentence.upper())\n",
        "\n",
        "# lower() metodu yazıyı küçültür\n",
        "print(sentence.lower())"
      ],
      "metadata": {
        "colab": {
          "base_uri": "https://localhost:8080/"
        },
        "id": "_6RlAWxx94V-",
        "outputId": "9241bacf-d9e6-4f6e-fd2e-871309a719d9"
      },
      "execution_count": 1,
      "outputs": [
        {
          "output_type": "stream",
          "name": "stdout",
          "text": [
            "MERHABA DÜNYA\n",
            "merhaba dünya\n"
          ]
        }
      ]
    },
    {
      "cell_type": "code",
      "source": [
        "text = \"python çok güçlü bir dil\"\n",
        "\n",
        "# title() metodu her kelimenin baş harfini büyük yazar\n",
        "capitalized_text = text.title()\n",
        "\n",
        "print(capitalized_text)"
      ],
      "metadata": {
        "id": "2IsEOSDG97Ns"
      },
      "execution_count": null,
      "outputs": []
    },
    {
      "cell_type": "code",
      "source": [
        "text = \"Python programlama dili harika\"\n",
        "\n",
        "result = \"harika\" in text\n",
        "\n",
        "print(result)"
      ],
      "metadata": {
        "id": "PHZgtZNv976I"
      },
      "execution_count": null,
      "outputs": []
    },
    {
      "cell_type": "code",
      "source": [
        "data = \"ad soyad yaş\"\n",
        "\n",
        "# split() metodu metini belirtilen karakterle ayırmak için kullanılır\n",
        "split_data = data.split(' ')\n",
        "\n",
        "print(split_data)"
      ],
      "metadata": {
        "id": "dfcRuM1w_UOd"
      },
      "execution_count": null,
      "outputs": []
    },
    {
      "cell_type": "code",
      "source": [
        "words = [\"Python\", \"çok\", \"popüler\"]\n",
        "\n",
        "# join() metodu seçilen metin dizisini istenilen karakterle birleştirir\n",
        "joined_text = \"-\".join(words)\n",
        "\n",
        "print(joined_text)"
      ],
      "metadata": {
        "colab": {
          "base_uri": "https://localhost:8080/"
        },
        "id": "eZ0JJaA6_Vuz",
        "outputId": "3de6609b-e20e-463a-f2d0-be7cf5390b68"
      },
      "execution_count": 2,
      "outputs": [
        {
          "output_type": "stream",
          "name": "stdout",
          "text": [
            "Python-çok-popüler\n"
          ]
        }
      ]
    },
    {
      "cell_type": "code",
      "source": [
        "text = \"              Python öğreniyorum               \"\n",
        "text2 = \"-------------Python öğreniyorum-------------\"\n",
        "\n",
        "# strip() metodu bir stringin başındaki ve sonundaki gereksiz boşlukları veya belirli karakterleri kaldırmak için kullanılır\n",
        "trimmed_text = text.strip()\n",
        "result = text2.strip('-')\n",
        "\n",
        "print(result)\n",
        "print(trimmed_text)"
      ],
      "metadata": {
        "colab": {
          "base_uri": "https://localhost:8080/"
        },
        "id": "zuXfcyAN_Wiq",
        "outputId": "26166322-6165-4937-de2b-3f87cb24da29"
      },
      "execution_count": 14,
      "outputs": [
        {
          "output_type": "stream",
          "name": "stdout",
          "text": [
            "Python öğreniyorum\n",
            "Python öğreniyorum\n"
          ]
        }
      ]
    },
    {
      "cell_type": "code",
      "source": [
        "text = \"Python harika!\"\n",
        "\n",
        "# replace() metodu seçilen metin yerine istenileni yazar\n",
        "new_text = text.replace(\"harika\", \"güzel\")\n",
        "\n",
        "print(new_text)"
      ],
      "metadata": {
        "id": "ZunfY7xq_YBX"
      },
      "execution_count": null,
      "outputs": []
    },
    {
      "cell_type": "code",
      "source": [
        "text = \"Gregor Samsa bir sabah bunaltıcı düşlerden uyandığında, kendini yatağında dev bir böceğe dönüşmüş olarak buldu.\"\n",
        "\n",
        "# count() metodu belirlenen harfin/karakterin kaç kez geçtiğini bulur\n",
        "count = text.count('l')\n",
        "\n",
        "print(f\"{count} kez geçiyor.\")"
      ],
      "metadata": {
        "colab": {
          "base_uri": "https://localhost:8080/"
        },
        "id": "QSo09BOU_c_m",
        "outputId": "d7cd898c-a122-4ee1-e1c1-acef4246fe2a"
      },
      "execution_count": 20,
      "outputs": [
        {
          "output_type": "stream",
          "name": "stdout",
          "text": [
            "4 kez geçiyor.\n"
          ]
        }
      ]
    }
  ]
}