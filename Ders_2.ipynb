{
  "nbformat": 4,
  "nbformat_minor": 0,
  "metadata": {
    "colab": {
      "provenance": [],
      "collapsed_sections": [
        "yPN3DU0z7lfO",
        "_1Yf2yfwFvoG"
      ],
      "authorship_tag": "ABX9TyPK0XYJxGQBm6MUq731zFiZ",
      "include_colab_link": true
    },
    "kernelspec": {
      "name": "python3",
      "display_name": "Python 3"
    },
    "language_info": {
      "name": "python"
    }
  },
  "cells": [
    {
      "cell_type": "markdown",
      "metadata": {
        "id": "view-in-github",
        "colab_type": "text"
      },
      "source": [
        "<a href=\"https://colab.research.google.com/github/MrShiroLu/temel-python/blob/main/Ders_2.ipynb\" target=\"_parent\"><img src=\"https://colab.research.google.com/assets/colab-badge.svg\" alt=\"Open In Colab\"/></a>"
      ]
    },
    {
      "cell_type": "markdown",
      "source": [
        "# String Metotlar"
      ],
      "metadata": {
        "id": "yPN3DU0z7lfO"
      }
    },
    {
      "cell_type": "code",
      "source": [
        "sentence = \"Merhaba Dünya\"\n",
        "\n",
        "# upper() metodu yazıyı büyütür\n",
        "print(sentence.upper())\n",
        "\n",
        "# lower() metodu yazıyı küçültür\n",
        "print(sentence.lower())"
      ],
      "metadata": {
        "colab": {
          "base_uri": "https://localhost:8080/"
        },
        "id": "_6RlAWxx94V-",
        "outputId": "9241bacf-d9e6-4f6e-fd2e-871309a719d9"
      },
      "execution_count": 1,
      "outputs": [
        {
          "output_type": "stream",
          "name": "stdout",
          "text": [
            "MERHABA DÜNYA\n",
            "merhaba dünya\n"
          ]
        }
      ]
    },
    {
      "cell_type": "code",
      "source": [
        "text = \"python çok güçlü bir dil\"\n",
        "\n",
        "# title() metodu her kelimenin baş harfini büyük yazar\n",
        "capitalized_text = text.title()\n",
        "\n",
        "print(capitalized_text)"
      ],
      "metadata": {
        "id": "2IsEOSDG97Ns"
      },
      "execution_count": null,
      "outputs": []
    },
    {
      "cell_type": "code",
      "source": [
        "text = \"Python programlama dili harika\"\n",
        "\n",
        "result = \"harika\" in text\n",
        "\n",
        "print(result)"
      ],
      "metadata": {
        "id": "PHZgtZNv976I"
      },
      "execution_count": null,
      "outputs": []
    },
    {
      "cell_type": "code",
      "source": [
        "data = \"ad soyad yaş\"\n",
        "\n",
        "# split() metodu metini belirtilen karakterle ayırmak için kullanılır\n",
        "split_data = data.split(' ')\n",
        "\n",
        "print(split_data)"
      ],
      "metadata": {
        "id": "dfcRuM1w_UOd"
      },
      "execution_count": null,
      "outputs": []
    },
    {
      "cell_type": "code",
      "source": [
        "words = [\"Python\", \"çok\", \"popüler\"]\n",
        "\n",
        "# join() metodu seçilen metin dizisini istenilen karakterle birleştirir\n",
        "joined_text = \"-\".join(words)\n",
        "\n",
        "print(joined_text)"
      ],
      "metadata": {
        "colab": {
          "base_uri": "https://localhost:8080/"
        },
        "id": "eZ0JJaA6_Vuz",
        "outputId": "3de6609b-e20e-463a-f2d0-be7cf5390b68"
      },
      "execution_count": 2,
      "outputs": [
        {
          "output_type": "stream",
          "name": "stdout",
          "text": [
            "Python-çok-popüler\n"
          ]
        }
      ]
    },
    {
      "cell_type": "code",
      "source": [
        "text = \"              Python öğreniyorum               \"\n",
        "text2 = \"-------------Python öğreniyorum-------------\"\n",
        "\n",
        "# strip() metodu bir stringin başındaki ve sonundaki gereksiz boşlukları veya belirli karakterleri kaldırmak için kullanılır\n",
        "trimmed_text = text.strip()\n",
        "result = text2.strip('-')\n",
        "\n",
        "print(result)\n",
        "print(trimmed_text)"
      ],
      "metadata": {
        "colab": {
          "base_uri": "https://localhost:8080/"
        },
        "id": "zuXfcyAN_Wiq",
        "outputId": "26166322-6165-4937-de2b-3f87cb24da29"
      },
      "execution_count": 14,
      "outputs": [
        {
          "output_type": "stream",
          "name": "stdout",
          "text": [
            "Python öğreniyorum\n",
            "Python öğreniyorum\n"
          ]
        }
      ]
    },
    {
      "cell_type": "code",
      "source": [
        "text = \"Python harika!\"\n",
        "\n",
        "# replace() metodu seçilen metin yerine istenileni yazar\n",
        "new_text = text.replace(\"harika\", \"güzel\")\n",
        "\n",
        "print(new_text)"
      ],
      "metadata": {
        "id": "ZunfY7xq_YBX"
      },
      "execution_count": null,
      "outputs": []
    },
    {
      "cell_type": "code",
      "source": [
        "text = \"Gregor Samsa bir sabah bunaltıcı düşlerden uyandığında, kendini yatağında dev bir böceğe dönüşmüş olarak buldu.\"\n",
        "\n",
        "# count() metodu belirlenen harfin/karakterin kaç kez geçtiğini bulur\n",
        "count = text.count('l')\n",
        "\n",
        "print(f\"{count} kez geçiyor.\")"
      ],
      "metadata": {
        "colab": {
          "base_uri": "https://localhost:8080/"
        },
        "id": "QSo09BOU_c_m",
        "outputId": "d7cd898c-a122-4ee1-e1c1-acef4246fe2a"
      },
      "execution_count": 20,
      "outputs": [
        {
          "output_type": "stream",
          "name": "stdout",
          "text": [
            "4 kez geçiyor.\n"
          ]
        }
      ]
    },
    {
      "cell_type": "markdown",
      "source": [
        "# İf İşlemleri"
      ],
      "metadata": {
        "id": "_1Yf2yfwFvoG"
      }
    },
    {
      "cell_type": "code",
      "source": [
        "# and operatörü\n",
        "yas = 25\n",
        "ehliyet = True\n",
        "\n",
        "if yas >= 18 and ehliyet:\n",
        "    print(\"Araba kullanabilirsiniz.\")\n",
        "else:\n",
        "    print(\"Araba kullanamazsınız.\")"
      ],
      "metadata": {
        "id": "3dRpx6MiGU56"
      },
      "execution_count": null,
      "outputs": []
    },
    {
      "cell_type": "code",
      "source": [
        "# or operatörü\n",
        "anahtar = False\n",
        "sifre = True\n",
        "\n",
        "if anahtar or sifre:\n",
        "    print(\"Kapıyı açabilirsiniz.\")\n",
        "else:\n",
        "    print(\"Kapıyı açamazsınız.\")"
      ],
      "metadata": {
        "colab": {
          "base_uri": "https://localhost:8080/",
          "height": 106
        },
        "id": "vR-Sz68xGebK",
        "outputId": "fc587662-8b9c-41ea-e7eb-a816222f221e"
      },
      "execution_count": 23,
      "outputs": [
        {
          "output_type": "error",
          "ename": "SyntaxError",
          "evalue": "invalid syntax (<ipython-input-23-6f3f2e7f7293>, line 5)",
          "traceback": [
            "\u001b[0;36m  File \u001b[0;32m\"<ipython-input-23-6f3f2e7f7293>\"\u001b[0;36m, line \u001b[0;32m5\u001b[0m\n\u001b[0;31m    if anahtar || sifre:\u001b[0m\n\u001b[0m                ^\u001b[0m\n\u001b[0;31mSyntaxError\u001b[0m\u001b[0;31m:\u001b[0m invalid syntax\n"
          ]
        }
      ]
    },
    {
      "cell_type": "code",
      "source": [
        "# not operatörü\n",
        "giris_yapti_mi = False\n",
        "\n",
        "if not giris_yapti_mi:\n",
        "    print(\"Lütfen giriş yapınız!\")\n",
        "else:\n",
        "    print(\"Hoş geldiniz!\")\n",
        "\n",
        "#-------------------------------------#\n",
        "\n",
        "if giris_yapti_mi != False:\n",
        "    print(\"Lütfen giriş yapınız!\")\n",
        "else:\n",
        "    print(\"Hoş geldiniz!\")"
      ],
      "metadata": {
        "colab": {
          "base_uri": "https://localhost:8080/"
        },
        "id": "89AcWdjsHPpf",
        "outputId": "3d9d3a56-6520-470f-852a-3aed629dec95"
      },
      "execution_count": 24,
      "outputs": [
        {
          "output_type": "stream",
          "name": "stdout",
          "text": [
            "Lütfen giriş yapınız!\n"
          ]
        }
      ]
    },
    {
      "cell_type": "code",
      "source": [
        "kull_sifre = int(input(\"sifreyi giriniz: \"))\n",
        "sifre = 123\n",
        "if kull_sifre == sifre:\n",
        "    print(\"Şifre doğru, hoş geldiniz.\")\n",
        "else:\n",
        "    print(\"Girdiğiniz şifre yanlış tekrar deneyiniz.\")"
      ],
      "metadata": {
        "colab": {
          "base_uri": "https://localhost:8080/"
        },
        "id": "rLOe4VPgHgPX",
        "outputId": "1ecb9b4a-3340-4814-a9fe-b77d088986f5"
      },
      "execution_count": 22,
      "outputs": [
        {
          "output_type": "stream",
          "name": "stdout",
          "text": [
            "sifreyi giriniz: 123\n",
            "Girdiğiniz şifre yanlış tekrar deneyiniz.\n"
          ]
        }
      ]
    },
    {
      "cell_type": "code",
      "source": [
        "username = \"admin\"\n",
        "password = \"12345\"\n",
        "is_admin = True\n",
        "\n",
        "if (username == \"admin\" and password == \"12345\") or is_admin:\n",
        "    print(\"Admin giriş başarılı, hoş geldiniz!\")\n",
        "else:\n",
        "    print(\"Admin giriş başarısız, lütfen bilgilerinizi kontrol edin.\")\n"
      ],
      "metadata": {
        "id": "PxfXZdypIQtn"
      },
      "execution_count": null,
      "outputs": []
    },
    {
      "cell_type": "markdown",
      "source": [
        "# Veri Tipleri"
      ],
      "metadata": {
        "id": "S6fnAiBxIzkr"
      }
    },
    {
      "cell_type": "markdown",
      "source": [
        "**dict**: Anahtar-değer ilişkileri için.\n",
        "\n",
        "**2 ve 3 boyutlu diziler**: Sayısal verileri organize etmek için.\n",
        "\n",
        "**tuple**: Değiştirilemez ve sabit yapılar için.\n",
        "\n",
        "**set**: Eşsiz elemanlar ve kümelerle çalışmak için."
      ],
      "metadata": {
        "id": "SOTgo6HxJ7iO"
      }
    },
    {
      "cell_type": "code",
      "source": [
        "# 2 boyutlu bir matris\n",
        "matrix = [\n",
        "    [1, 2, 3],\n",
        "    [4, 5, 6],\n",
        "    [7, 8, 9]\n",
        "]\n",
        "\n",
        "# Verilere erişim\n",
        "print(matrix[0][1])\n",
        "\n",
        "# Tüm elemanları döngüyle yazdırma\n",
        "for row in matrix:\n",
        "    for value in row:\n",
        "        print(value, end=\" \")\n",
        "\n",
        "# end=\" \" sayesinde alt satıra geçmeden yazdı"
      ],
      "metadata": {
        "colab": {
          "base_uri": "https://localhost:8080/"
        },
        "id": "Rvf7Z0dRJDCG",
        "outputId": "9527fbfb-34db-4b30-8ea4-8798ce7909e8"
      },
      "execution_count": 26,
      "outputs": [
        {
          "output_type": "stream",
          "name": "stdout",
          "text": [
            "2\n",
            "1 2 3 4 5 6 7 8 9 "
          ]
        }
      ]
    },
    {
      "cell_type": "code",
      "source": [
        "# 3 boyutlu bir yapı (katmanlar, satırlar, sütunlar)\n",
        "cube = [\n",
        "    [\n",
        "        [1, 2], [3, 4]\n",
        "    ],\n",
        "    [\n",
        "        [5, 6], [7, 8]\n",
        "    ]\n",
        "]\n",
        "\n",
        "# Verilere erişim\n",
        "print(cube[1][0][1])"
      ],
      "metadata": {
        "id": "qwmZ15C7JQBT"
      },
      "execution_count": null,
      "outputs": []
    },
    {
      "cell_type": "code",
      "source": [
        "# Bir tuple oluşturma\n",
        "coordinates = (10.5, 20.3)\n",
        "\n",
        "# Tuple'a erişim\n",
        "print(coordinates[0])  # Çıktı: 10.5\n",
        "\n",
        "# Tuple'lar değiştirilemez!!!\n",
        "coordinates[0] = 20.0"
      ],
      "metadata": {
        "id": "1PQBBkiBJk8i"
      },
      "execution_count": null,
      "outputs": []
    },
    {
      "cell_type": "code",
      "source": [
        "# Set oluşturma\n",
        "numbers = {1, 2, 3, 3, 4}\n",
        "\n",
        "# Aynı elemanlar tekrar etmez\n",
        "print(numbers)\n",
        "\n",
        "# Eleman ekleme ve çıkarma\n",
        "numbers.add(5)\n",
        "numbers.remove(3)\n",
        "print(numbers)\n",
        "\n",
        "# Kümeler arası işlemler\n",
        "set1 = {1, 2, 3}\n",
        "set2 = {3, 4, 5}\n",
        "\n",
        "print(set1.union(set2))    # union (Birleşim)\n",
        "print(set1.intersection(set2))  # intersection (Kesişim)"
      ],
      "metadata": {
        "id": "yufhX8_VJtjo"
      },
      "execution_count": null,
      "outputs": []
    }
  ]
}