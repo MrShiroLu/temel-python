{
  "nbformat": 4,
  "nbformat_minor": 0,
  "metadata": {
    "colab": {
      "provenance": [],
      "authorship_tag": "ABX9TyNjTpf5ERuwsJFGOwBoQ3KR",
      "include_colab_link": true
    },
    "kernelspec": {
      "name": "python3",
      "display_name": "Python 3"
    },
    "language_info": {
      "name": "python"
    }
  },
  "cells": [
    {
      "cell_type": "markdown",
      "metadata": {
        "id": "view-in-github",
        "colab_type": "text"
      },
      "source": [
        "<a href=\"https://colab.research.google.com/github/MrShiroLu/temel-python/blob/main/Ders_2.ipynb\" target=\"_parent\"><img src=\"https://colab.research.google.com/assets/colab-badge.svg\" alt=\"Open In Colab\"/></a>"
      ]
    },
    {
      "cell_type": "markdown",
      "source": [
        "# String Metotlar"
      ],
      "metadata": {
        "id": "yPN3DU0z7lfO"
      }
    },
    {
      "cell_type": "code",
      "source": [
        "# Ters çevirme\n",
        "text = \"Python\"\n",
        "reversed_text = text[::-1]\n",
        "print(reversed_text)  # Çıktı: nohtyP"
      ],
      "metadata": {
        "id": "Cz8HtX4A8OyG"
      },
      "execution_count": null,
      "outputs": []
    },
    {
      "cell_type": "code",
      "source": [
        "sentence = \"Merhaba Dünya\"\n",
        "\n",
        "# upper() metodu yazıyı büyütür\n",
        "print(sentence.upper())\n",
        "\n",
        "# lower() metodu yazıyı küçültür\n",
        "print(sentence.lower())"
      ],
      "metadata": {
        "colab": {
          "base_uri": "https://localhost:8080/"
        },
        "id": "_6RlAWxx94V-",
        "outputId": "9241bacf-d9e6-4f6e-fd2e-871309a719d9"
      },
      "execution_count": 1,
      "outputs": [
        {
          "output_type": "stream",
          "name": "stdout",
          "text": [
            "MERHABA DÜNYA\n",
            "merhaba dünya\n"
          ]
        }
      ]
    },
    {
      "cell_type": "code",
      "source": [
        "text = \"python çok güçlü bir dil\"\n",
        "\n",
        "# title() metodu her kelimenin baş harfini büyük yazar\n",
        "capitalized_text = text.title()\n",
        "\n",
        "print(capitalized_text)"
      ],
      "metadata": {
        "id": "2IsEOSDG97Ns"
      },
      "execution_count": null,
      "outputs": []
    },
    {
      "cell_type": "code",
      "source": [
        "text = \"Python programlama dili harika\"\n",
        "\n",
        "result = \"harika\" in text\n",
        "\n",
        "print(result)"
      ],
      "metadata": {
        "id": "PHZgtZNv976I"
      },
      "execution_count": null,
      "outputs": []
    },
    {
      "cell_type": "code",
      "source": [
        "data = \"ad soyad yaş\"\n",
        "\n",
        "# split() metodu metini belirtilen karakterle ayırmak için kullanılır\n",
        "#\n",
        "split_data = data.split(' ')\n",
        "\n",
        "print(split_data)"
      ],
      "metadata": {
        "id": "dfcRuM1w_UOd"
      },
      "execution_count": null,
      "outputs": []
    },
    {
      "cell_type": "code",
      "source": [
        "words = [\"Python\", \"çok\", \"popüler\"]\n",
        "\n",
        "\n",
        "joined_text = \" \".join(words)\n",
        "\n",
        "print(joined_text)  # Çıktı: Python çok popüler"
      ],
      "metadata": {
        "id": "eZ0JJaA6_Vuz"
      },
      "execution_count": null,
      "outputs": []
    },
    {
      "cell_type": "code",
      "source": [
        "text = \"   Python öğreniyorum   \"\n",
        "trimmed_text = text.strip()\n",
        "print(trimmed_text)  # Çıktı: Python öğreniyorum"
      ],
      "metadata": {
        "id": "zuXfcyAN_Wiq"
      },
      "execution_count": null,
      "outputs": []
    },
    {
      "cell_type": "code",
      "source": [
        "text = \"Python harika!\"\n",
        "new_text = text.replace(\"harika\", \"güzel\")\n",
        "print(new_text)  # Çıktı: Python güzel!"
      ],
      "metadata": {
        "id": "ZunfY7xq_YBX"
      },
      "execution_count": null,
      "outputs": []
    },
    {
      "cell_type": "code",
      "source": [
        "text = \"programlama\"\n",
        "count_a = text.count(\"a\")\n",
        "print(f\"'a' harfi {count_a} kez geçiyor.\")  # Çıktı: 'a' harfi 3 kez geçiyor."
      ],
      "metadata": {
        "id": "QSo09BOU_c_m"
      },
      "execution_count": null,
      "outputs": []
    },
    {
      "cell_type": "markdown",
      "source": [
        "# İf İşlemler"
      ],
      "metadata": {
        "id": "40s5kD9LBH45"
      }
    }
  ]
}